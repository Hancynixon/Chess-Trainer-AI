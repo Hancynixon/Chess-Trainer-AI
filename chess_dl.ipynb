{
  "cells": [
    {
      "cell_type": "code",
      "execution_count": null,
      "metadata": {
        "id": "NU-Xp2uWKEIH"
      },
      "outputs": [],
      "source": [
        "!pip install python-chess torchvision\n",
        "import chess\n",
        "import chess.pgn\n",
        "import chess.engine\n",
        "import numpy as np\n",
        "import torch\n",
        "import torch.nn as nn\n",
        "import torch.optim as optim\n",
        "from google.colab import files\n",
        "from torchvision import models\n",
        "import random\n",
        "import time"
      ]
    },
    {
      "cell_type": "markdown",
      "metadata": {
        "id": "-QBLrJCPLQ3Y"
      },
      "source": [
        "# Download and set up Stockfish"
      ]
    },
    {
      "cell_type": "code",
      "execution_count": null,
      "metadata": {
        "colab": {
          "base_uri": "https://localhost:8080/"
        },
        "id": "sKVCuncsLNO-",
        "outputId": "1d9c441d-cb3f-4a9a-c4e8-b4dfe53a807f"
      },
      "outputs": [
        {
          "output_type": "stream",
          "name": "stdout",
          "text": [
            "Reading package lists... Done\n",
            "Building dependency tree... Done\n",
            "Reading state information... Done\n",
            "stockfish is already the newest version (14.1-1).\n",
            "0 upgraded, 0 newly installed, 0 to remove and 29 not upgraded.\n"
          ]
        }
      ],
      "source": [
        "!apt-get install -y stockfish\n",
        "ENGINE_PATH = \"/usr/games/stockfish\"\n",
        "engine = chess.engine.SimpleEngine.popen_uci(ENGINE_PATH)"
      ]
    },
    {
      "cell_type": "markdown",
      "metadata": {
        "id": "2jhUspErMY6U"
      },
      "source": [
        "# Defining DL Model (Feed-Forward Neural Network)"
      ]
    },
    {
      "cell_type": "code",
      "execution_count": null,
      "metadata": {
        "id": "pmUxP6ZULzYV"
      },
      "outputs": [],
      "source": [
        "class ChessEvaluator(nn.Module):\n",
        "    def __init__(self):\n",
        "        super(ChessEvaluator, self).__init__()\n",
        "        self.fc1 = nn.Linear(8, 16)\n",
        "        self.fc2 = nn.Linear(16, 5)\n",
        "\n",
        "    def forward(self, x):\n",
        "        x = torch.relu(self.fc1(x))\n",
        "        x = self.fc2(x)\n",
        "        return x"
      ]
    },
    {
      "cell_type": "code",
      "execution_count": null,
      "metadata": {
        "id": "YJ426aO6Dazp"
      },
      "outputs": [],
      "source": [
        "# Model instance\n",
        "model = ChessEvaluator()\n",
        "criterion = nn.CrossEntropyLoss()\n",
        "optimizer = optim.Adam(model.parameters(), lr=0.001)"
      ]
    },
    {
      "cell_type": "markdown",
      "metadata": {
        "id": "5fllXiqOEUJz"
      },
      "source": [
        "# Function to analyze chess game"
      ]
    },
    {
      "cell_type": "code",
      "execution_count": null,
      "metadata": {
        "id": "oESMQu4HEQ5y"
      },
      "outputs": [],
      "source": [
        "def analyze_game_fast(pgn_file):\n",
        "    pgn = open(pgn_file)\n",
        "    game = chess.pgn.read_game(pgn)\n",
        "    board = game.board()\n",
        "    move_data = []\n",
        "\n",
        "    start_time = time.time()\n",
        "\n",
        "    for move in game.mainline_moves():\n",
        "        board.push(move)\n",
        "        analysis = engine.analyse(board, chess.engine.Limit(depth=6))\n",
        "        centipawn_loss = analysis[\"score\"].relative.score()\n",
        "        move_data.append((board.fen(), centipawn_loss))\n",
        "\n",
        "    print(f\"Analysis completed in {time.time() - start_time:.2f} seconds\")\n",
        "    return move_data"
      ]
    },
    {
      "cell_type": "markdown",
      "metadata": {
        "id": "MbwD-QxAEg_t"
      },
      "source": [
        "# Function to upload file"
      ]
    },
    {
      "cell_type": "code",
      "execution_count": null,
      "metadata": {
        "id": "aQbQns-cEiUz"
      },
      "outputs": [],
      "source": [
        "def upload_pgn():\n",
        "    uploaded = files.upload()\n",
        "    filename = list(uploaded.keys())[0]\n",
        "\n",
        "    # Check if the uploaded file is a PGN file\n",
        "    if not filename.lower().endswith('.pgn'):\n",
        "        raise ValueError(\"Invalid file format! Please upload a PGN file.\")\n",
        "\n",
        "    return filename\n"
      ]
    },
    {
      "cell_type": "markdown",
      "metadata": {
        "id": "kuXfTkqkEmGM"
      },
      "source": [
        "# Function to generate feedback"
      ]
    },
    {
      "cell_type": "code",
      "execution_count": null,
      "metadata": {
        "id": "z-IJQIvxEpJP"
      },
      "outputs": [],
      "source": [
        "def generate_feedback(move_data):\n",
        "    feedback = []\n",
        "    thresholds = [0, 50, 100, 200]\n",
        "\n",
        "    for _, centipawn_loss in move_data:\n",
        "        if centipawn_loss is None:\n",
        "            feedback.append(\"Move not analyzed.\")\n",
        "            continue\n",
        "\n",
        "        if centipawn_loss == 0:\n",
        "            feedback.append(\"Excellent move!\")\n",
        "        elif centipawn_loss < thresholds[1]:\n",
        "            feedback.append(\"Good move but could be better.\")\n",
        "        elif centipawn_loss < thresholds[2]:\n",
        "            feedback.append(\"Inaccuracy detected.\")\n",
        "        elif centipawn_loss < thresholds[3]:\n",
        "            feedback.append(\"Mistake! Review this move carefully.\")\n",
        "        else:\n",
        "            feedback.append(\"Blunder! Significant mistake made.\")\n",
        "\n",
        "    return feedback"
      ]
    },
    {
      "cell_type": "markdown",
      "source": [
        "# Monte Carlo Tree Search (MCTS) for move selection"
      ],
      "metadata": {
        "id": "ha60IOeysHNP"
      }
    },
    {
      "cell_type": "code",
      "source": [
        "def mcts_move_selection(board, simulations=10):\n",
        "    legal_moves = list(board.legal_moves)\n",
        "    if not legal_moves:\n",
        "        return None\n",
        "\n",
        "    move_scores = {}\n",
        "\n",
        "    for move in legal_moves:\n",
        "        board.push(move)\n",
        "        try:\n",
        "            # Evaluate move using Stockfish at low depth\n",
        "            analysis = engine.analyse(board, chess.engine.Limit(depth=4))\n",
        "            score = analysis[\"score\"].relative.score() or 0\n",
        "            move_scores[move] = score\n",
        "        except:\n",
        "            move_scores[move] = -1000  # Penalize errors\n",
        "        board.pop()\n",
        "\n",
        "    # 🔹 Sort moves by highest score & return the best\n",
        "    best_move = max(move_scores, key=move_scores.get)\n",
        "    return best_move"
      ],
      "metadata": {
        "id": "L7O1zLIRsLPA"
      },
      "execution_count": null,
      "outputs": []
    },
    {
      "cell_type": "markdown",
      "metadata": {
        "id": "DNpv2X-CEvBs"
      },
      "source": [
        "# Defining run analysis"
      ]
    },
    {
      "cell_type": "code",
      "execution_count": null,
      "metadata": {
        "id": "SHa2z8KJEstn"
      },
      "outputs": [],
      "source": [
        "def run_analysis():\n",
        "    print(\"Upload your PGN file:\")\n",
        "    pgn_file = upload_pgn()\n",
        "    move_data = analyze_game_fast(pgn_file)\n",
        "    feedback = generate_feedback(move_data)\n",
        "\n",
        "    for i, comment in enumerate(feedback):\n",
        "        print(f\"Move {i+1}: {comment}\")"
      ]
    },
    {
      "cell_type": "code",
      "source": [
        "import os\n",
        "os.listdir()"
      ],
      "metadata": {
        "colab": {
          "base_uri": "https://localhost:8080/"
        },
        "id": "wqceEozVo_n4",
        "outputId": "dbc3554b-90da-4a1a-dbc0-68654f394d09"
      },
      "execution_count": null,
      "outputs": [
        {
          "output_type": "execute_result",
          "data": {
            "text/plain": [
              "['.config', 'sample_data']"
            ]
          },
          "metadata": {},
          "execution_count": 22
        }
      ]
    },
    {
      "cell_type": "markdown",
      "metadata": {
        "id": "8-VurNLYE197"
      },
      "source": [
        "# Run analysis"
      ]
    },
    {
      "cell_type": "code",
      "execution_count": null,
      "metadata": {
        "colab": {
          "base_uri": "https://localhost:8080/",
          "height": 1000
        },
        "id": "HELLaz6hE3D8",
        "outputId": "a9dce2a8-a1bd-48bd-fdff-3950003e2336"
      },
      "outputs": [
        {
          "output_type": "stream",
          "name": "stdout",
          "text": [
            "Upload your PGN file:\n"
          ]
        },
        {
          "output_type": "display_data",
          "data": {
            "text/plain": [
              "<IPython.core.display.HTML object>"
            ],
            "text/html": [
              "\n",
              "     <input type=\"file\" id=\"files-9f854528-8c88-4cc8-ac26-a0da412a7f39\" name=\"files[]\" multiple disabled\n",
              "        style=\"border:none\" />\n",
              "     <output id=\"result-9f854528-8c88-4cc8-ac26-a0da412a7f39\">\n",
              "      Upload widget is only available when the cell has been executed in the\n",
              "      current browser session. Please rerun this cell to enable.\n",
              "      </output>\n",
              "      <script>// Copyright 2017 Google LLC\n",
              "//\n",
              "// Licensed under the Apache License, Version 2.0 (the \"License\");\n",
              "// you may not use this file except in compliance with the License.\n",
              "// You may obtain a copy of the License at\n",
              "//\n",
              "//      http://www.apache.org/licenses/LICENSE-2.0\n",
              "//\n",
              "// Unless required by applicable law or agreed to in writing, software\n",
              "// distributed under the License is distributed on an \"AS IS\" BASIS,\n",
              "// WITHOUT WARRANTIES OR CONDITIONS OF ANY KIND, either express or implied.\n",
              "// See the License for the specific language governing permissions and\n",
              "// limitations under the License.\n",
              "\n",
              "/**\n",
              " * @fileoverview Helpers for google.colab Python module.\n",
              " */\n",
              "(function(scope) {\n",
              "function span(text, styleAttributes = {}) {\n",
              "  const element = document.createElement('span');\n",
              "  element.textContent = text;\n",
              "  for (const key of Object.keys(styleAttributes)) {\n",
              "    element.style[key] = styleAttributes[key];\n",
              "  }\n",
              "  return element;\n",
              "}\n",
              "\n",
              "// Max number of bytes which will be uploaded at a time.\n",
              "const MAX_PAYLOAD_SIZE = 100 * 1024;\n",
              "\n",
              "function _uploadFiles(inputId, outputId) {\n",
              "  const steps = uploadFilesStep(inputId, outputId);\n",
              "  const outputElement = document.getElementById(outputId);\n",
              "  // Cache steps on the outputElement to make it available for the next call\n",
              "  // to uploadFilesContinue from Python.\n",
              "  outputElement.steps = steps;\n",
              "\n",
              "  return _uploadFilesContinue(outputId);\n",
              "}\n",
              "\n",
              "// This is roughly an async generator (not supported in the browser yet),\n",
              "// where there are multiple asynchronous steps and the Python side is going\n",
              "// to poll for completion of each step.\n",
              "// This uses a Promise to block the python side on completion of each step,\n",
              "// then passes the result of the previous step as the input to the next step.\n",
              "function _uploadFilesContinue(outputId) {\n",
              "  const outputElement = document.getElementById(outputId);\n",
              "  const steps = outputElement.steps;\n",
              "\n",
              "  const next = steps.next(outputElement.lastPromiseValue);\n",
              "  return Promise.resolve(next.value.promise).then((value) => {\n",
              "    // Cache the last promise value to make it available to the next\n",
              "    // step of the generator.\n",
              "    outputElement.lastPromiseValue = value;\n",
              "    return next.value.response;\n",
              "  });\n",
              "}\n",
              "\n",
              "/**\n",
              " * Generator function which is called between each async step of the upload\n",
              " * process.\n",
              " * @param {string} inputId Element ID of the input file picker element.\n",
              " * @param {string} outputId Element ID of the output display.\n",
              " * @return {!Iterable<!Object>} Iterable of next steps.\n",
              " */\n",
              "function* uploadFilesStep(inputId, outputId) {\n",
              "  const inputElement = document.getElementById(inputId);\n",
              "  inputElement.disabled = false;\n",
              "\n",
              "  const outputElement = document.getElementById(outputId);\n",
              "  outputElement.innerHTML = '';\n",
              "\n",
              "  const pickedPromise = new Promise((resolve) => {\n",
              "    inputElement.addEventListener('change', (e) => {\n",
              "      resolve(e.target.files);\n",
              "    });\n",
              "  });\n",
              "\n",
              "  const cancel = document.createElement('button');\n",
              "  inputElement.parentElement.appendChild(cancel);\n",
              "  cancel.textContent = 'Cancel upload';\n",
              "  const cancelPromise = new Promise((resolve) => {\n",
              "    cancel.onclick = () => {\n",
              "      resolve(null);\n",
              "    };\n",
              "  });\n",
              "\n",
              "  // Wait for the user to pick the files.\n",
              "  const files = yield {\n",
              "    promise: Promise.race([pickedPromise, cancelPromise]),\n",
              "    response: {\n",
              "      action: 'starting',\n",
              "    }\n",
              "  };\n",
              "\n",
              "  cancel.remove();\n",
              "\n",
              "  // Disable the input element since further picks are not allowed.\n",
              "  inputElement.disabled = true;\n",
              "\n",
              "  if (!files) {\n",
              "    return {\n",
              "      response: {\n",
              "        action: 'complete',\n",
              "      }\n",
              "    };\n",
              "  }\n",
              "\n",
              "  for (const file of files) {\n",
              "    const li = document.createElement('li');\n",
              "    li.append(span(file.name, {fontWeight: 'bold'}));\n",
              "    li.append(span(\n",
              "        `(${file.type || 'n/a'}) - ${file.size} bytes, ` +\n",
              "        `last modified: ${\n",
              "            file.lastModifiedDate ? file.lastModifiedDate.toLocaleDateString() :\n",
              "                                    'n/a'} - `));\n",
              "    const percent = span('0% done');\n",
              "    li.appendChild(percent);\n",
              "\n",
              "    outputElement.appendChild(li);\n",
              "\n",
              "    const fileDataPromise = new Promise((resolve) => {\n",
              "      const reader = new FileReader();\n",
              "      reader.onload = (e) => {\n",
              "        resolve(e.target.result);\n",
              "      };\n",
              "      reader.readAsArrayBuffer(file);\n",
              "    });\n",
              "    // Wait for the data to be ready.\n",
              "    let fileData = yield {\n",
              "      promise: fileDataPromise,\n",
              "      response: {\n",
              "        action: 'continue',\n",
              "      }\n",
              "    };\n",
              "\n",
              "    // Use a chunked sending to avoid message size limits. See b/62115660.\n",
              "    let position = 0;\n",
              "    do {\n",
              "      const length = Math.min(fileData.byteLength - position, MAX_PAYLOAD_SIZE);\n",
              "      const chunk = new Uint8Array(fileData, position, length);\n",
              "      position += length;\n",
              "\n",
              "      const base64 = btoa(String.fromCharCode.apply(null, chunk));\n",
              "      yield {\n",
              "        response: {\n",
              "          action: 'append',\n",
              "          file: file.name,\n",
              "          data: base64,\n",
              "        },\n",
              "      };\n",
              "\n",
              "      let percentDone = fileData.byteLength === 0 ?\n",
              "          100 :\n",
              "          Math.round((position / fileData.byteLength) * 100);\n",
              "      percent.textContent = `${percentDone}% done`;\n",
              "\n",
              "    } while (position < fileData.byteLength);\n",
              "  }\n",
              "\n",
              "  // All done.\n",
              "  yield {\n",
              "    response: {\n",
              "      action: 'complete',\n",
              "    }\n",
              "  };\n",
              "}\n",
              "\n",
              "scope.google = scope.google || {};\n",
              "scope.google.colab = scope.google.colab || {};\n",
              "scope.google.colab._files = {\n",
              "  _uploadFiles,\n",
              "  _uploadFilesContinue,\n",
              "};\n",
              "})(self);\n",
              "</script> "
            ]
          },
          "metadata": {}
        },
        {
          "output_type": "stream",
          "name": "stdout",
          "text": [
            "Saving Malakhov.pgn to Malakhov.pgn\n",
            "Analysis completed in 0.32 seconds\n",
            "Move 1: Good move but could be better.\n",
            "Move 2: Good move but could be better.\n",
            "Move 3: Good move but could be better.\n",
            "Move 4: Good move but could be better.\n",
            "Move 5: Good move but could be better.\n",
            "Move 6: Good move but could be better.\n",
            "Move 7: Good move but could be better.\n",
            "Move 8: Good move but could be better.\n",
            "Move 9: Good move but could be better.\n",
            "Move 10: Good move but could be better.\n",
            "Move 11: Good move but could be better.\n",
            "Move 12: Inaccuracy detected.\n",
            "Move 13: Good move but could be better.\n",
            "Move 14: Inaccuracy detected.\n",
            "Move 15: Good move but could be better.\n",
            "Move 16: Inaccuracy detected.\n",
            "Move 17: Blunder! Significant mistake made.\n",
            "Move 18: Inaccuracy detected.\n",
            "Move 19: Good move but could be better.\n",
            "Move 20: Good move but could be better.\n",
            "Move 21: Good move but could be better.\n",
            "Move 22: Good move but could be better.\n",
            "Move 23: Good move but could be better.\n",
            "Move 24: Good move but could be better.\n",
            "Move 25: Good move but could be better.\n",
            "Move 26: Blunder! Significant mistake made.\n",
            "Move 27: Good move but could be better.\n",
            "Move 28: Inaccuracy detected.\n",
            "Move 29: Good move but could be better.\n",
            "Move 30: Good move but could be better.\n",
            "Move 31: Good move but could be better.\n",
            "Move 32: Inaccuracy detected.\n",
            "Move 33: Good move but could be better.\n",
            "Move 34: Good move but could be better.\n",
            "Move 35: Mistake! Review this move carefully.\n",
            "Move 36: Good move but could be better.\n",
            "Move 37: Inaccuracy detected.\n",
            "Move 38: Good move but could be better.\n",
            "Move 39: Inaccuracy detected.\n",
            "Move 40: Inaccuracy detected.\n",
            "Move 41: Good move but could be better.\n",
            "Move 42: Mistake! Review this move carefully.\n",
            "Move 43: Good move but could be better.\n",
            "Move 44: Inaccuracy detected.\n",
            "Move 45: Good move but could be better.\n",
            "Move 46: Mistake! Review this move carefully.\n",
            "Move 47: Good move but could be better.\n",
            "Move 48: Mistake! Review this move carefully.\n",
            "Move 49: Good move but could be better.\n",
            "Move 50: Blunder! Significant mistake made.\n",
            "Move 51: Good move but could be better.\n",
            "Move 52: Blunder! Significant mistake made.\n",
            "Move 53: Good move but could be better.\n",
            "Move 54: Blunder! Significant mistake made.\n",
            "Move 55: Good move but could be better.\n",
            "Move 56: Blunder! Significant mistake made.\n",
            "Move 57: Good move but could be better.\n"
          ]
        }
      ],
      "source": [
        "run_analysis()"
      ]
    }
  ],
  "metadata": {
    "colab": {
      "provenance": []
    },
    "kernelspec": {
      "display_name": "Python 3",
      "name": "python3"
    },
    "language_info": {
      "name": "python"
    }
  },
  "nbformat": 4,
  "nbformat_minor": 0
}